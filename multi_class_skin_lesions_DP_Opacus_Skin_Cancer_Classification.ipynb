{
  "nbformat": 4,
  "nbformat_minor": 0,
  "metadata": {
    "kernelspec": {
      "display_name": "Python 3",
      "language": "python",
      "name": "python3"
    },
    "language_info": {
      "codemirror_mode": {
        "name": "ipython",
        "version": 3
      },
      "file_extension": ".py",
      "mimetype": "text/x-python",
      "name": "python",
      "nbconvert_exporter": "python",
      "pygments_lexer": "ipython3",
      "version": "3.7.9"
    },
    "colab": {
      "name": "multi-class-skin-lesions-DP-Opacus-Skin Cancer Classification.ipynb",
      "provenance": [],
      "collapsed_sections": [],
      "include_colab_link": true
    },
    "accelerator": "GPU",
    "widgets": {
      "application/vnd.jupyter.widget-state+json": {
        "8fa5bef435df4b00bb3d7d0a1c44f316": {
          "model_module": "@jupyter-widgets/controls",
          "model_name": "HBoxModel",
          "state": {
            "_view_name": "HBoxView",
            "_dom_classes": [],
            "_model_name": "HBoxModel",
            "_view_module": "@jupyter-widgets/controls",
            "_model_module_version": "1.5.0",
            "_view_count": null,
            "_view_module_version": "1.5.0",
            "box_style": "",
            "layout": "IPY_MODEL_8a2189f39d70401c883994af5e90ef15",
            "_model_module": "@jupyter-widgets/controls",
            "children": [
              "IPY_MODEL_d1fa3a5584b4449cbf7316e2ed34fe22",
              "IPY_MODEL_8f996e657b434f08a0cdf50b78e1bdc3"
            ]
          }
        },
        "8a2189f39d70401c883994af5e90ef15": {
          "model_module": "@jupyter-widgets/base",
          "model_name": "LayoutModel",
          "state": {
            "_view_name": "LayoutView",
            "grid_template_rows": null,
            "right": null,
            "justify_content": null,
            "_view_module": "@jupyter-widgets/base",
            "overflow": null,
            "_model_module_version": "1.2.0",
            "_view_count": null,
            "flex_flow": null,
            "width": null,
            "min_width": null,
            "border": null,
            "align_items": null,
            "bottom": null,
            "_model_module": "@jupyter-widgets/base",
            "top": null,
            "grid_column": null,
            "overflow_y": null,
            "overflow_x": null,
            "grid_auto_flow": null,
            "grid_area": null,
            "grid_template_columns": null,
            "flex": null,
            "_model_name": "LayoutModel",
            "justify_items": null,
            "grid_row": null,
            "max_height": null,
            "align_content": null,
            "visibility": null,
            "align_self": null,
            "height": null,
            "min_height": null,
            "padding": null,
            "grid_auto_rows": null,
            "grid_gap": null,
            "max_width": null,
            "order": null,
            "_view_module_version": "1.2.0",
            "grid_template_areas": null,
            "object_position": null,
            "object_fit": null,
            "grid_auto_columns": null,
            "margin": null,
            "display": null,
            "left": null
          }
        },
        "d1fa3a5584b4449cbf7316e2ed34fe22": {
          "model_module": "@jupyter-widgets/controls",
          "model_name": "FloatProgressModel",
          "state": {
            "_view_name": "ProgressView",
            "style": "IPY_MODEL_1803e7936aef4674919c6643b747d90f",
            "_dom_classes": [],
            "description": "Epoch: 100%",
            "_model_name": "FloatProgressModel",
            "bar_style": "success",
            "max": 20,
            "_view_module": "@jupyter-widgets/controls",
            "_model_module_version": "1.5.0",
            "value": 20,
            "_view_count": null,
            "_view_module_version": "1.5.0",
            "orientation": "horizontal",
            "min": 0,
            "description_tooltip": null,
            "_model_module": "@jupyter-widgets/controls",
            "layout": "IPY_MODEL_b69c3695e06a475f98802002620235c7"
          }
        },
        "8f996e657b434f08a0cdf50b78e1bdc3": {
          "model_module": "@jupyter-widgets/controls",
          "model_name": "HTMLModel",
          "state": {
            "_view_name": "HTMLView",
            "style": "IPY_MODEL_1ab8232fa7614db8bec9fff8be1c475f",
            "_dom_classes": [],
            "description": "",
            "_model_name": "HTMLModel",
            "placeholder": "​",
            "_view_module": "@jupyter-widgets/controls",
            "_model_module_version": "1.5.0",
            "value": " 20/20 [1:36:36&lt;00:00, 289.81s/epoch]",
            "_view_count": null,
            "_view_module_version": "1.5.0",
            "description_tooltip": null,
            "_model_module": "@jupyter-widgets/controls",
            "layout": "IPY_MODEL_f3a23a5282cc4416a52cc9ff8a5bb2b4"
          }
        },
        "1803e7936aef4674919c6643b747d90f": {
          "model_module": "@jupyter-widgets/controls",
          "model_name": "ProgressStyleModel",
          "state": {
            "_view_name": "StyleView",
            "_model_name": "ProgressStyleModel",
            "description_width": "initial",
            "_view_module": "@jupyter-widgets/base",
            "_model_module_version": "1.5.0",
            "_view_count": null,
            "_view_module_version": "1.2.0",
            "bar_color": null,
            "_model_module": "@jupyter-widgets/controls"
          }
        },
        "b69c3695e06a475f98802002620235c7": {
          "model_module": "@jupyter-widgets/base",
          "model_name": "LayoutModel",
          "state": {
            "_view_name": "LayoutView",
            "grid_template_rows": null,
            "right": null,
            "justify_content": null,
            "_view_module": "@jupyter-widgets/base",
            "overflow": null,
            "_model_module_version": "1.2.0",
            "_view_count": null,
            "flex_flow": null,
            "width": null,
            "min_width": null,
            "border": null,
            "align_items": null,
            "bottom": null,
            "_model_module": "@jupyter-widgets/base",
            "top": null,
            "grid_column": null,
            "overflow_y": null,
            "overflow_x": null,
            "grid_auto_flow": null,
            "grid_area": null,
            "grid_template_columns": null,
            "flex": null,
            "_model_name": "LayoutModel",
            "justify_items": null,
            "grid_row": null,
            "max_height": null,
            "align_content": null,
            "visibility": null,
            "align_self": null,
            "height": null,
            "min_height": null,
            "padding": null,
            "grid_auto_rows": null,
            "grid_gap": null,
            "max_width": null,
            "order": null,
            "_view_module_version": "1.2.0",
            "grid_template_areas": null,
            "object_position": null,
            "object_fit": null,
            "grid_auto_columns": null,
            "margin": null,
            "display": null,
            "left": null
          }
        },
        "1ab8232fa7614db8bec9fff8be1c475f": {
          "model_module": "@jupyter-widgets/controls",
          "model_name": "DescriptionStyleModel",
          "state": {
            "_view_name": "StyleView",
            "_model_name": "DescriptionStyleModel",
            "description_width": "",
            "_view_module": "@jupyter-widgets/base",
            "_model_module_version": "1.5.0",
            "_view_count": null,
            "_view_module_version": "1.2.0",
            "_model_module": "@jupyter-widgets/controls"
          }
        },
        "f3a23a5282cc4416a52cc9ff8a5bb2b4": {
          "model_module": "@jupyter-widgets/base",
          "model_name": "LayoutModel",
          "state": {
            "_view_name": "LayoutView",
            "grid_template_rows": null,
            "right": null,
            "justify_content": null,
            "_view_module": "@jupyter-widgets/base",
            "overflow": null,
            "_model_module_version": "1.2.0",
            "_view_count": null,
            "flex_flow": null,
            "width": null,
            "min_width": null,
            "border": null,
            "align_items": null,
            "bottom": null,
            "_model_module": "@jupyter-widgets/base",
            "top": null,
            "grid_column": null,
            "overflow_y": null,
            "overflow_x": null,
            "grid_auto_flow": null,
            "grid_area": null,
            "grid_template_columns": null,
            "flex": null,
            "_model_name": "LayoutModel",
            "justify_items": null,
            "grid_row": null,
            "max_height": null,
            "align_content": null,
            "visibility": null,
            "align_self": null,
            "height": null,
            "min_height": null,
            "padding": null,
            "grid_auto_rows": null,
            "grid_gap": null,
            "max_width": null,
            "order": null,
            "_view_module_version": "1.2.0",
            "grid_template_areas": null,
            "object_position": null,
            "object_fit": null,
            "grid_auto_columns": null,
            "margin": null,
            "display": null,
            "left": null
          }
        }
      }
    }
  },
  "cells": [
    {
      "cell_type": "markdown",
      "metadata": {
        "id": "view-in-github",
        "colab_type": "text"
      },
      "source": [
        "<a href=\"https://colab.research.google.com/github/RuchitaSuranagi/-Skin-Cancer-Classifier/blob/main/multi_class_skin_lesions_DP_Opacus_Skin_Cancer_Classification.ipynb\" target=\"_parent\"><img src=\"https://colab.research.google.com/assets/colab-badge.svg\" alt=\"Open In Colab\"/></a>"
      ]
    },
    {
      "cell_type": "markdown",
      "metadata": {
        "id": "UOBSpW6MyRcj"
      },
      "source": [
        "***DP-Opacus-Skin-Cancer-Classification_AITD_Batch_22***\n",
        "\n",
        "Detecting the type of skin cancer by training the model with 7 type of skin lesions"
      ]
    },
    {
      "cell_type": "markdown",
      "metadata": {
        "id": "bbFbNRM6ufMg"
      },
      "source": [
        "# Skin Cancer Classifier"
      ]
    },
    {
      "cell_type": "code",
      "metadata": {
        "id": "bpcedQ94ufMl"
      },
      "source": [
        "#Import the necessary modules\n",
        "%matplotlib inline\n",
        "%config InlineBackend.figure_format = 'retina'\n",
        "\n",
        "import torch\n",
        "import torchcsprng as csprng\n",
        "from torch import nn\n",
        "from torch import optim\n",
        "from torchvision import datasets, transforms, models\n",
        "from torch.utils.data import DataLoader,Dataset\n",
        "\n",
        "import numpy as np\n",
        "import pandas as pd\n",
        "from tqdm import tqdm\n",
        "from glob import glob\n",
        "from PIL import Image\n",
        "import os,cv2,itertools\n",
        "from sklearn.model_selection import train_test_split\n",
        "from tqdm import tqdm_notebook\n",
        "\n",
        "np.random.seed(10)\n",
        "torch.manual_seed(10)\n",
        "torch.cuda.manual_seed(10)"
      ],
      "execution_count": null,
      "outputs": []
    },
    {
      "cell_type": "code",
      "metadata": {
        "id": "sHLhvlmttD5d",
        "outputId": "596cc567-4bae-48d7-c832-b4367a789784",
        "colab": {
          "base_uri": "https://localhost:8080/",
          "height": 139
        }
      },
      "source": [
        "!git clone https://github.com/pytorch/opacus.git"
      ],
      "execution_count": null,
      "outputs": [
        {
          "output_type": "stream",
          "text": [
            "Cloning into 'opacus'...\n",
            "remote: Enumerating objects: 301, done.\u001b[K\n",
            "remote: Counting objects: 100% (301/301), done.\u001b[K\n",
            "remote: Compressing objects: 100% (161/161), done.\u001b[K\n",
            "remote: Total 2202 (delta 163), reused 197 (delta 81), pack-reused 1901\u001b[K\n",
            "Receiving objects: 100% (2202/2202), 1.59 MiB | 11.52 MiB/s, done.\n",
            "Resolving deltas: 100% (1258/1258), done.\n"
          ],
          "name": "stdout"
        }
      ]
    },
    {
      "cell_type": "code",
      "metadata": {
        "id": "5GDk8Lulh2aR"
      },
      "source": [
        "import os\n",
        "os.chdir('opacus')"
      ],
      "execution_count": null,
      "outputs": []
    },
    {
      "cell_type": "code",
      "metadata": {
        "id": "QQUKqcAjh2jX",
        "outputId": "01ddf0eb-fba0-42a1-ef00-ffba92f9b8c5",
        "colab": {
          "base_uri": "https://localhost:8080/",
          "height": 384
        }
      },
      "source": [
        "!pip install -e ."
      ],
      "execution_count": null,
      "outputs": [
        {
          "output_type": "stream",
          "text": [
            "Obtaining file:///content/opacus\n",
            "Requirement already satisfied: numpy>=1.15 in /usr/local/lib/python3.6/dist-packages (from opacus==0.9.1) (1.18.5)\n",
            "Requirement already satisfied: torch>=1.3 in /usr/local/lib/python3.6/dist-packages (from opacus==0.9.1) (1.6.0+cu101)\n",
            "Requirement already satisfied: torchvision>=0.4 in /usr/local/lib/python3.6/dist-packages (from opacus==0.9.1) (0.7.0+cu101)\n",
            "Requirement already satisfied: tqdm>=4.40 in /usr/local/lib/python3.6/dist-packages (from opacus==0.9.1) (4.41.1)\n",
            "Requirement already satisfied: scipy>=1.2 in /usr/local/lib/python3.6/dist-packages (from opacus==0.9.1) (1.4.1)\n",
            "Requirement already satisfied: pytest in /usr/local/lib/python3.6/dist-packages (from opacus==0.9.1) (3.6.4)\n",
            "Requirement already satisfied: torchcsprng in /usr/local/lib/python3.6/dist-packages (from opacus==0.9.1) (0.1.2)\n",
            "Requirement already satisfied: future in /usr/local/lib/python3.6/dist-packages (from torch>=1.3->opacus==0.9.1) (0.16.0)\n",
            "Requirement already satisfied: pillow>=4.1.1 in /usr/local/lib/python3.6/dist-packages (from torchvision>=0.4->opacus==0.9.1) (7.0.0)\n",
            "Requirement already satisfied: six>=1.10.0 in /usr/local/lib/python3.6/dist-packages (from pytest->opacus==0.9.1) (1.15.0)\n",
            "Requirement already satisfied: setuptools in /usr/local/lib/python3.6/dist-packages (from pytest->opacus==0.9.1) (50.3.0)\n",
            "Requirement already satisfied: more-itertools>=4.0.0 in /usr/local/lib/python3.6/dist-packages (from pytest->opacus==0.9.1) (8.5.0)\n",
            "Requirement already satisfied: attrs>=17.4.0 in /usr/local/lib/python3.6/dist-packages (from pytest->opacus==0.9.1) (20.2.0)\n",
            "Requirement already satisfied: pluggy<0.8,>=0.5 in /usr/local/lib/python3.6/dist-packages (from pytest->opacus==0.9.1) (0.7.1)\n",
            "Requirement already satisfied: py>=1.5.0 in /usr/local/lib/python3.6/dist-packages (from pytest->opacus==0.9.1) (1.9.0)\n",
            "Requirement already satisfied: atomicwrites>=1.0 in /usr/local/lib/python3.6/dist-packages (from pytest->opacus==0.9.1) (1.4.0)\n",
            "Installing collected packages: opacus\n",
            "  Running setup.py develop for opacus\n",
            "Successfully installed opacus\n"
          ],
          "name": "stdout"
        }
      ]
    },
    {
      "cell_type": "code",
      "metadata": {
        "id": "NIrQ6QPBrqfp"
      },
      "source": [
        "from opacus import PrivacyEngine\n",
        "from opacus.utils import module_modification"
      ],
      "execution_count": null,
      "outputs": []
    },
    {
      "cell_type": "markdown",
      "metadata": {
        "id": "F16bjWASufNH"
      },
      "source": [
        "Note: The HAM10000 dataset was obtained from- https://dataverse.harvard.edu/dataset.xhtml?persistentId=doi:10.7910/DVN/DBW86T \n",
        "\n",
        "The following types of skin cancer can be predicated by the model\n",
        "- MEL: “Melanoma”\n",
        "-NV: “Melanocytic nevus”\n",
        "-BCC: “Basal cell carcinoma”\n",
        "-AKIEC: “Actinic keratosis / Bowen’s disease (intraepithelial carcinoma)”\n",
        "-BKL: “Benign keratosis (solar lentigo / seborrheic keratosis / lichen planus-like keratosis)”\n",
        "-DF: “Dermatofibroma”\n",
        "-VASC: “Vascular lesion”"
      ]
    },
    {
      "cell_type": "code",
      "metadata": {
        "id": "lvom9v0wv-Wc",
        "outputId": "e830e301-eece-4cc6-853c-7f6a093bc323",
        "colab": {
          "base_uri": "https://localhost:8080/",
          "height": 52
        }
      },
      "source": [
        "# authorize access to google drive\n",
        "\n",
        "from google.colab import drive\n",
        "#drive.mount(\"/content/drive\", force_remount=True)\n",
        "drive.mount('/content/drive')\n",
        "!pwd"
      ],
      "execution_count": null,
      "outputs": [
        {
          "output_type": "stream",
          "text": [
            "Mounted at /content/drive\n",
            "/content/opacus\n"
          ],
          "name": "stdout"
        }
      ]
    },
    {
      "cell_type": "code",
      "metadata": {
        "id": "FOfXDx3bwBXs",
        "outputId": "cc7d0dbd-5f19-4b89-c5a9-2e8abf72b55c",
        "colab": {
          "base_uri": "https://localhost:8080/",
          "height": 35
        }
      },
      "source": [
        "%cd \"/content/drive/My Drive/Project-3rd year/data\""
      ],
      "execution_count": null,
      "outputs": [
        {
          "output_type": "stream",
          "text": [
            "/content/drive/My Drive/Project-3rd year/data\n"
          ],
          "name": "stdout"
        }
      ]
    },
    {
      "cell_type": "code",
      "metadata": {
        "id": "raOS3pWIufNi"
      },
      "source": [
        "#There are 7 types of classes in the dataset for lesions as specified:\n",
        "lesion_type_dict = {\n",
        "    'nv': 'Melanocytic nevi',\n",
        "    'mel': 'melenoma',\n",
        "    'bkl': 'Benign keratosis-like lesions ',\n",
        "    'bcc': 'Basal cell carcinoma',\n",
        "    'akiec': 'Actinic keratoses',\n",
        "    'vasc': 'Vascular lesions',\n",
        "    'df': 'Dermatofibroma'\n",
        "}"
      ],
      "execution_count": null,
      "outputs": []
    },
    {
      "cell_type": "code",
      "metadata": {
        "id": "qakJxOFK8z2Q"
      },
      "source": [
        "data_dir = '/content/drive/My Drive/Project-3rd year/data/'\n",
        "all_image_path = glob(os.path.join(data_dir, '*', '*.jpg'))\n",
        "imageid_path_dict = {os.path.splitext(os.path.basename(x))[0]: x for x in all_image_path}"
      ],
      "execution_count": null,
      "outputs": []
    },
    {
      "cell_type": "code",
      "metadata": {
        "id": "tGlTMjyUufNz"
      },
      "source": [
        "def compute_img_mean_std(image_paths):\n",
        "#computing the mean and std of three channel on the whole dataset,\n",
        "#first we should normalize the image\n",
        "\n",
        "\n",
        "    img_h, img_w = 224, 224\n",
        "    imgs = []\n",
        "    NORM_MEAN, NORM_STD_DEV = [], []\n",
        "\n",
        "    for i in tqdm(range(len(image_paths))):\n",
        "        img = cv2.imread(image_paths[i])\n",
        "        img = cv2.resize(img, (img_h, img_w))\n",
        "        imgs.append(img)\n",
        "\n",
        "    imgs = np.stack(imgs, axis=3)\n",
        "    print(imgs.shape)\n",
        "\n",
        "    imgs = imgs.astype(np.float32) / 255.\n",
        "\n",
        "    for i in range(3):\n",
        "        pixels = imgs[:, :, i, :].ravel()  # resize to one row\n",
        "        NORM_MEAN.append(np.mean(pixels))\n",
        "        NORM_STD_DEV.append(np.std(pixels))\n",
        "\n",
        "    NORM_MEAN.reverse()  # BGR --> RGB\n",
        "    NORM_STD_DEV.reverse()\n",
        "\n",
        "    print(\"NORM_MEAN = {}\".format(NORM_MEAN))\n",
        "    print(\"NORM_STD_DEV = {}\".format(NORM_STD_DEV))\n",
        "    return NORM_MEAN,NORM_STD_DEV"
      ],
      "execution_count": null,
      "outputs": []
    },
    {
      "cell_type": "code",
      "metadata": {
        "id": "89Xkd0mM8k1D",
        "outputId": "20d4098a-c39c-4623-ff12-bb7729e40ee1",
        "colab": {
          "base_uri": "https://localhost:8080/",
          "height": 87
        }
      },
      "source": [
        "NORM_MEAN,NORM_STD_DEV = compute_img_mean_std(all_image_path)"
      ],
      "execution_count": null,
      "outputs": [
        {
          "output_type": "stream",
          "text": [
            "100%|██████████| 10015/10015 [56:06<00:00,  2.98it/s]\n"
          ],
          "name": "stderr"
        },
        {
          "output_type": "stream",
          "text": [
            "(224, 224, 3, 10015)\n",
            "NORM_MEAN = [0.7637123, 0.53815764, 0.56163645]\n",
            "NORM_STD_DEV = [0.13791, 0.1587932, 0.17676742]\n"
          ],
          "name": "stdout"
        }
      ]
    },
    {
      "cell_type": "code",
      "metadata": {
        "id": "RdAHBkF_ufRJ"
      },
      "source": [
        "#Hyper-parameters\n",
        "\n",
        "MAX_GRAD_NORM = 1.2  #.5 #1.5 or1.0\n",
        "NOISE_MULTIPLIER = .38 #1.3 or .38\n",
        "DELTA = 1e-5\n",
        "\n",
        "LR = 1e-3\n",
        "NUM_WORKERS = 2\n",
        "\n",
        "BATCH_SIZE = 32\n",
        "VIRTUAL_BATCH_SIZE = 64"
      ],
      "execution_count": null,
      "outputs": []
    },
    {
      "cell_type": "code",
      "metadata": {
        "id": "qM9Z_---ufOa",
        "outputId": "3b019fd9-6fd2-42ef-ce62-ed4a284d4ca9",
        "colab": {
          "base_uri": "https://localhost:8080/",
          "height": 202
        }
      },
      "source": [
        "#Reading the data from the csv file and saving it as a dataframe.\n",
        "DF = pd.read_csv('/content/drive/My Drive/Project-3rd year/data/HAM10000_metadata.csv')\n",
        "\n",
        "#Adding columns to the original DataFrame, dx_name(the whole name), dx_id(the corresponding index of cell type, as the image label).\n",
        "DF['dx_name'] = DF['dx'].map(lesion_type_dict.get)\n",
        "DF['dx_id'] = pd.Categorical(DF['dx_name']).codes \n",
        "\n",
        "#Converting each lesion into  a numerical code.\n",
        "DF.head()"
      ],
      "execution_count": null,
      "outputs": [
        {
          "output_type": "execute_result",
          "data": {
            "text/html": [
              "<div>\n",
              "<style scoped>\n",
              "    .dataframe tbody tr th:only-of-type {\n",
              "        vertical-align: middle;\n",
              "    }\n",
              "\n",
              "    .dataframe tbody tr th {\n",
              "        vertical-align: top;\n",
              "    }\n",
              "\n",
              "    .dataframe thead th {\n",
              "        text-align: right;\n",
              "    }\n",
              "</style>\n",
              "<table border=\"1\" class=\"dataframe\">\n",
              "  <thead>\n",
              "    <tr style=\"text-align: right;\">\n",
              "      <th></th>\n",
              "      <th>lesion_id</th>\n",
              "      <th>image_id</th>\n",
              "      <th>dx</th>\n",
              "      <th>dx_type</th>\n",
              "      <th>age</th>\n",
              "      <th>sex</th>\n",
              "      <th>localization</th>\n",
              "      <th>dx_name</th>\n",
              "      <th>dx_id</th>\n",
              "    </tr>\n",
              "  </thead>\n",
              "  <tbody>\n",
              "    <tr>\n",
              "      <th>0</th>\n",
              "      <td>HAM_0000118</td>\n",
              "      <td>ISIC_0027419</td>\n",
              "      <td>bkl</td>\n",
              "      <td>histo</td>\n",
              "      <td>80.0</td>\n",
              "      <td>male</td>\n",
              "      <td>scalp</td>\n",
              "      <td>Benign keratosis-like lesions</td>\n",
              "      <td>2</td>\n",
              "    </tr>\n",
              "    <tr>\n",
              "      <th>1</th>\n",
              "      <td>HAM_0000118</td>\n",
              "      <td>ISIC_0025030</td>\n",
              "      <td>bkl</td>\n",
              "      <td>histo</td>\n",
              "      <td>80.0</td>\n",
              "      <td>male</td>\n",
              "      <td>scalp</td>\n",
              "      <td>Benign keratosis-like lesions</td>\n",
              "      <td>2</td>\n",
              "    </tr>\n",
              "    <tr>\n",
              "      <th>2</th>\n",
              "      <td>HAM_0002730</td>\n",
              "      <td>ISIC_0026769</td>\n",
              "      <td>bkl</td>\n",
              "      <td>histo</td>\n",
              "      <td>80.0</td>\n",
              "      <td>male</td>\n",
              "      <td>scalp</td>\n",
              "      <td>Benign keratosis-like lesions</td>\n",
              "      <td>2</td>\n",
              "    </tr>\n",
              "    <tr>\n",
              "      <th>3</th>\n",
              "      <td>HAM_0002730</td>\n",
              "      <td>ISIC_0025661</td>\n",
              "      <td>bkl</td>\n",
              "      <td>histo</td>\n",
              "      <td>80.0</td>\n",
              "      <td>male</td>\n",
              "      <td>scalp</td>\n",
              "      <td>Benign keratosis-like lesions</td>\n",
              "      <td>2</td>\n",
              "    </tr>\n",
              "    <tr>\n",
              "      <th>4</th>\n",
              "      <td>HAM_0001466</td>\n",
              "      <td>ISIC_0031633</td>\n",
              "      <td>bkl</td>\n",
              "      <td>histo</td>\n",
              "      <td>75.0</td>\n",
              "      <td>male</td>\n",
              "      <td>ear</td>\n",
              "      <td>Benign keratosis-like lesions</td>\n",
              "      <td>2</td>\n",
              "    </tr>\n",
              "  </tbody>\n",
              "</table>\n",
              "</div>"
            ],
            "text/plain": [
              "     lesion_id      image_id  ...                         dx_name dx_id\n",
              "0  HAM_0000118  ISIC_0027419  ...  Benign keratosis-like lesions      2\n",
              "1  HAM_0000118  ISIC_0025030  ...  Benign keratosis-like lesions      2\n",
              "2  HAM_0002730  ISIC_0026769  ...  Benign keratosis-like lesions      2\n",
              "3  HAM_0002730  ISIC_0025661  ...  Benign keratosis-like lesions      2\n",
              "4  HAM_0001466  ISIC_0031633  ...  Benign keratosis-like lesions      2\n",
              "\n",
              "[5 rows x 9 columns]"
            ]
          },
          "metadata": {
            "tags": []
          },
          "execution_count": 32
        }
      ]
    },
    {
      "cell_type": "code",
      "metadata": {
        "id": "bekRAE88ufOw",
        "outputId": "9603afce-4cbc-4775-e151-585814ae5ad4",
        "colab": {
          "base_uri": "https://localhost:8080/",
          "height": 35
        }
      },
      "source": [
        "DF.shape"
      ],
      "execution_count": null,
      "outputs": [
        {
          "output_type": "execute_result",
          "data": {
            "text/plain": [
              "(10015, 9)"
            ]
          },
          "metadata": {
            "tags": []
          },
          "execution_count": 33
        }
      ]
    },
    {
      "cell_type": "markdown",
      "metadata": {
        "id": "lXKR0ilYufO5"
      },
      "source": [
        "Training dataset and a testing dataset.\n",
        "Check for duplicates in our dataset as those are not required for test set."
      ]
    },
    {
      "cell_type": "code",
      "metadata": {
        "id": "jq1AC40YufO7",
        "outputId": "d522cb3f-4ab0-46f0-c4f9-a9a2b33e1e4d",
        "colab": {
          "base_uri": "https://localhost:8080/",
          "height": 202
        }
      },
      "source": [
        "#Creating a new dataframe df_undup that contains only the non-duplicate elements.\n",
        "DF_NO_DUBLICATE = DF.groupby('lesion_id').count()\n",
        "\n",
        "#Filters out so that we have only one image associated with each lesion_id\n",
        "DF_NO_DUBLICATE = DF_NO_DUBLICATE[DF_NO_DUBLICATE['image_id'] == 1]\n",
        "DF_NO_DUBLICATE.reset_index(inplace=True)\n",
        "DF_NO_DUBLICATE.head()"
      ],
      "execution_count": null,
      "outputs": [
        {
          "output_type": "execute_result",
          "data": {
            "text/html": [
              "<div>\n",
              "<style scoped>\n",
              "    .dataframe tbody tr th:only-of-type {\n",
              "        vertical-align: middle;\n",
              "    }\n",
              "\n",
              "    .dataframe tbody tr th {\n",
              "        vertical-align: top;\n",
              "    }\n",
              "\n",
              "    .dataframe thead th {\n",
              "        text-align: right;\n",
              "    }\n",
              "</style>\n",
              "<table border=\"1\" class=\"dataframe\">\n",
              "  <thead>\n",
              "    <tr style=\"text-align: right;\">\n",
              "      <th></th>\n",
              "      <th>lesion_id</th>\n",
              "      <th>image_id</th>\n",
              "      <th>dx</th>\n",
              "      <th>dx_type</th>\n",
              "      <th>age</th>\n",
              "      <th>sex</th>\n",
              "      <th>localization</th>\n",
              "      <th>dx_name</th>\n",
              "      <th>dx_id</th>\n",
              "    </tr>\n",
              "  </thead>\n",
              "  <tbody>\n",
              "    <tr>\n",
              "      <th>0</th>\n",
              "      <td>HAM_0000001</td>\n",
              "      <td>1</td>\n",
              "      <td>1</td>\n",
              "      <td>1</td>\n",
              "      <td>1</td>\n",
              "      <td>1</td>\n",
              "      <td>1</td>\n",
              "      <td>1</td>\n",
              "      <td>1</td>\n",
              "    </tr>\n",
              "    <tr>\n",
              "      <th>1</th>\n",
              "      <td>HAM_0000003</td>\n",
              "      <td>1</td>\n",
              "      <td>1</td>\n",
              "      <td>1</td>\n",
              "      <td>1</td>\n",
              "      <td>1</td>\n",
              "      <td>1</td>\n",
              "      <td>1</td>\n",
              "      <td>1</td>\n",
              "    </tr>\n",
              "    <tr>\n",
              "      <th>2</th>\n",
              "      <td>HAM_0000004</td>\n",
              "      <td>1</td>\n",
              "      <td>1</td>\n",
              "      <td>1</td>\n",
              "      <td>1</td>\n",
              "      <td>1</td>\n",
              "      <td>1</td>\n",
              "      <td>1</td>\n",
              "      <td>1</td>\n",
              "    </tr>\n",
              "    <tr>\n",
              "      <th>3</th>\n",
              "      <td>HAM_0000007</td>\n",
              "      <td>1</td>\n",
              "      <td>1</td>\n",
              "      <td>1</td>\n",
              "      <td>1</td>\n",
              "      <td>1</td>\n",
              "      <td>1</td>\n",
              "      <td>1</td>\n",
              "      <td>1</td>\n",
              "    </tr>\n",
              "    <tr>\n",
              "      <th>4</th>\n",
              "      <td>HAM_0000008</td>\n",
              "      <td>1</td>\n",
              "      <td>1</td>\n",
              "      <td>1</td>\n",
              "      <td>1</td>\n",
              "      <td>1</td>\n",
              "      <td>1</td>\n",
              "      <td>1</td>\n",
              "      <td>1</td>\n",
              "    </tr>\n",
              "  </tbody>\n",
              "</table>\n",
              "</div>"
            ],
            "text/plain": [
              "     lesion_id  image_id  dx  dx_type  age  sex  localization  dx_name  dx_id\n",
              "0  HAM_0000001         1   1        1    1    1             1        1      1\n",
              "1  HAM_0000003         1   1        1    1    1             1        1      1\n",
              "2  HAM_0000004         1   1        1    1    1             1        1      1\n",
              "3  HAM_0000007         1   1        1    1    1             1        1      1\n",
              "4  HAM_0000008         1   1        1    1    1             1        1      1"
            ]
          },
          "metadata": {
            "tags": []
          },
          "execution_count": 34
        }
      ]
    },
    {
      "cell_type": "code",
      "metadata": {
        "scrolled": true,
        "id": "OV_TCfdMufPE",
        "outputId": "139cde04-f666-4549-cc72-eef73bfc345f",
        "colab": {
          "base_uri": "https://localhost:8080/",
          "height": 289
        }
      },
      "source": [
        "#creating new column that specifies whether lesion_id is duplicated or not.\n",
        "\n",
        "def get_duplicates(x):\n",
        "    unique_list = list(DF_NO_DUBLICATE['lesion_id'])\n",
        "    if x in unique_list:\n",
        "        return 'unique'\n",
        "    else:\n",
        "        return 'duplicated'\n",
        "DF['duplicates'] = DF['lesion_id']\n",
        "DF['duplicates'] = DF['duplicates'].apply(get_duplicates)\n",
        "DF.head()"
      ],
      "execution_count": null,
      "outputs": [
        {
          "output_type": "execute_result",
          "data": {
            "text/html": [
              "<div>\n",
              "<style scoped>\n",
              "    .dataframe tbody tr th:only-of-type {\n",
              "        vertical-align: middle;\n",
              "    }\n",
              "\n",
              "    .dataframe tbody tr th {\n",
              "        vertical-align: top;\n",
              "    }\n",
              "\n",
              "    .dataframe thead th {\n",
              "        text-align: right;\n",
              "    }\n",
              "</style>\n",
              "<table border=\"1\" class=\"dataframe\">\n",
              "  <thead>\n",
              "    <tr style=\"text-align: right;\">\n",
              "      <th></th>\n",
              "      <th>lesion_id</th>\n",
              "      <th>image_id</th>\n",
              "      <th>dx</th>\n",
              "      <th>dx_type</th>\n",
              "      <th>age</th>\n",
              "      <th>sex</th>\n",
              "      <th>localization</th>\n",
              "      <th>dx_name</th>\n",
              "      <th>dx_id</th>\n",
              "      <th>duplicates</th>\n",
              "    </tr>\n",
              "  </thead>\n",
              "  <tbody>\n",
              "    <tr>\n",
              "      <th>0</th>\n",
              "      <td>HAM_0000118</td>\n",
              "      <td>ISIC_0027419</td>\n",
              "      <td>bkl</td>\n",
              "      <td>histo</td>\n",
              "      <td>80.0</td>\n",
              "      <td>male</td>\n",
              "      <td>scalp</td>\n",
              "      <td>Benign keratosis-like lesions</td>\n",
              "      <td>2</td>\n",
              "      <td>duplicated</td>\n",
              "    </tr>\n",
              "    <tr>\n",
              "      <th>1</th>\n",
              "      <td>HAM_0000118</td>\n",
              "      <td>ISIC_0025030</td>\n",
              "      <td>bkl</td>\n",
              "      <td>histo</td>\n",
              "      <td>80.0</td>\n",
              "      <td>male</td>\n",
              "      <td>scalp</td>\n",
              "      <td>Benign keratosis-like lesions</td>\n",
              "      <td>2</td>\n",
              "      <td>duplicated</td>\n",
              "    </tr>\n",
              "    <tr>\n",
              "      <th>2</th>\n",
              "      <td>HAM_0002730</td>\n",
              "      <td>ISIC_0026769</td>\n",
              "      <td>bkl</td>\n",
              "      <td>histo</td>\n",
              "      <td>80.0</td>\n",
              "      <td>male</td>\n",
              "      <td>scalp</td>\n",
              "      <td>Benign keratosis-like lesions</td>\n",
              "      <td>2</td>\n",
              "      <td>duplicated</td>\n",
              "    </tr>\n",
              "    <tr>\n",
              "      <th>3</th>\n",
              "      <td>HAM_0002730</td>\n",
              "      <td>ISIC_0025661</td>\n",
              "      <td>bkl</td>\n",
              "      <td>histo</td>\n",
              "      <td>80.0</td>\n",
              "      <td>male</td>\n",
              "      <td>scalp</td>\n",
              "      <td>Benign keratosis-like lesions</td>\n",
              "      <td>2</td>\n",
              "      <td>duplicated</td>\n",
              "    </tr>\n",
              "    <tr>\n",
              "      <th>4</th>\n",
              "      <td>HAM_0001466</td>\n",
              "      <td>ISIC_0031633</td>\n",
              "      <td>bkl</td>\n",
              "      <td>histo</td>\n",
              "      <td>75.0</td>\n",
              "      <td>male</td>\n",
              "      <td>ear</td>\n",
              "      <td>Benign keratosis-like lesions</td>\n",
              "      <td>2</td>\n",
              "      <td>duplicated</td>\n",
              "    </tr>\n",
              "  </tbody>\n",
              "</table>\n",
              "</div>"
            ],
            "text/plain": [
              "     lesion_id      image_id  ... dx_id  duplicates\n",
              "0  HAM_0000118  ISIC_0027419  ...     2  duplicated\n",
              "1  HAM_0000118  ISIC_0025030  ...     2  duplicated\n",
              "2  HAM_0002730  ISIC_0026769  ...     2  duplicated\n",
              "3  HAM_0002730  ISIC_0025661  ...     2  duplicated\n",
              "4  HAM_0001466  ISIC_0031633  ...     2  duplicated\n",
              "\n",
              "[5 rows x 10 columns]"
            ]
          },
          "metadata": {
            "tags": []
          },
          "execution_count": 35
        }
      ]
    },
    {
      "cell_type": "code",
      "metadata": {
        "id": "S5-1oD6kufPM",
        "outputId": "8b72c34c-427b-419d-bf93-0e5322630fe4",
        "colab": {
          "base_uri": "https://localhost:8080/",
          "height": 69
        }
      },
      "source": [
        "# number of duplicates.\n",
        "DF['duplicates'].value_counts()"
      ],
      "execution_count": null,
      "outputs": [
        {
          "output_type": "execute_result",
          "data": {
            "text/plain": [
              "unique        5514\n",
              "duplicated    4501\n",
              "Name: duplicates, dtype: int64"
            ]
          },
          "metadata": {
            "tags": []
          },
          "execution_count": 36
        }
      ]
    },
    {
      "cell_type": "code",
      "metadata": {
        "id": "dy1IehjdufPW",
        "outputId": "6c46cc60-6198-46be-99b9-62fe369f82a6",
        "colab": {
          "base_uri": "https://localhost:8080/",
          "height": 35
        }
      },
      "source": [
        "#creating the dataframe with only non-duplicate elements.\n",
        "DF_NO_DUBLICATE = DF[DF['duplicates'] == 'unique']\n",
        "DF_NO_DUBLICATE.shape"
      ],
      "execution_count": null,
      "outputs": [
        {
          "output_type": "execute_result",
          "data": {
            "text/plain": [
              "(5514, 10)"
            ]
          },
          "metadata": {
            "tags": []
          },
          "execution_count": 37
        }
      ]
    },
    {
      "cell_type": "code",
      "metadata": {
        "id": "NufxEUmZufPh",
        "outputId": "3310877b-427b-4058-98e8-ce318b1c7243",
        "colab": {
          "base_uri": "https://localhost:8080/",
          "height": 35
        }
      },
      "source": [
        "#Creation of a validation set by randomly choosing 20% data from orignal DF and 36.3% rows from non-duplicate dataset.\n",
        "\n",
        "y = DF_NO_DUBLICATE['dx_id']\n",
        "_, DF_TEST = train_test_split(DF_NO_DUBLICATE, test_size=0.363, random_state=101, stratify=y)\n",
        "DF_TEST.shape"
      ],
      "execution_count": null,
      "outputs": [
        {
          "output_type": "execute_result",
          "data": {
            "text/plain": [
              "(2002, 10)"
            ]
          },
          "metadata": {
            "tags": []
          },
          "execution_count": 38
        }
      ]
    },
    {
      "cell_type": "markdown",
      "metadata": {
        "id": "-zBNkiJsufPs"
      },
      "source": [
        "Now we are required to create our training dataset which can contain the duplicate elements but non the validation ones."
      ]
    },
    {
      "cell_type": "code",
      "metadata": {
        "id": "wOfKZu2xufQd",
        "outputId": "fe34aa0c-7b40-4479-8f42-56418a9e416d",
        "colab": {
          "base_uri": "https://localhost:8080/",
          "height": 35
        }
      },
      "source": [
        "#To check whether a row is present in validation or not.\n",
        "def get_val_rows(x): \n",
        "    val_list = list(DF_TEST['image_id'])\n",
        "    if str(x) in val_list:\n",
        "        return 'val'\n",
        "    else:\n",
        "        return 'train'\n",
        "\n",
        "# create a new colum that is a copy of the image_id column\n",
        "DF['train_or_val'] = DF['image_id']\n",
        "\n",
        "# apply the function to this new column\n",
        "DF['train_or_val'] = DF['train_or_val'].apply(get_val_rows)\n",
        "\n",
        "# filter out train rows\n",
        "\n",
        "DF_TRAIN = DF[DF['train_or_val'] == 'train']\n",
        "print(len(DF_TRAIN))"
      ],
      "execution_count": null,
      "outputs": [
        {
          "output_type": "stream",
          "text": [
            "8013\n"
          ],
          "name": "stdout"
        }
      ]
    },
    {
      "cell_type": "code",
      "metadata": {
        "id": "Yj68IA2KufQj",
        "outputId": "d7ef5400-6e58-4ef0-d337-f21a56f6c663",
        "colab": {
          "base_uri": "https://localhost:8080/",
          "height": 35
        }
      },
      "source": [
        "DF_TRAIN.shape"
      ],
      "execution_count": null,
      "outputs": [
        {
          "output_type": "execute_result",
          "data": {
            "text/plain": [
              "(8013, 11)"
            ]
          },
          "metadata": {
            "tags": []
          },
          "execution_count": 40
        }
      ]
    },
    {
      "cell_type": "code",
      "metadata": {
        "id": "mxOUWsMaufQw",
        "outputId": "9e5a51aa-e492-493b-ebca-37d5bf673404",
        "colab": {
          "base_uri": "https://localhost:8080/",
          "height": 312
        }
      },
      "source": [
        "print(DF_TRAIN['dx_name'].value_counts(), \"\\n\")\n",
        "print(DF_TRAIN['dx_id'].value_counts())"
      ],
      "execution_count": null,
      "outputs": [
        {
          "output_type": "stream",
          "text": [
            "Melanocytic nevi                  5102\n",
            "melenoma                          1030\n",
            "Benign keratosis-like lesions      939\n",
            "Basal cell carcinoma               450\n",
            "Actinic keratoses                  272\n",
            "Vascular lesions                   119\n",
            "Dermatofibroma                     101\n",
            "Name: dx_name, dtype: int64 \n",
            "\n",
            "4    5102\n",
            "6    1030\n",
            "2     939\n",
            "1     450\n",
            "0     272\n",
            "5     119\n",
            "3     101\n",
            "Name: dx_id, dtype: int64\n"
          ],
          "name": "stdout"
        }
      ]
    },
    {
      "cell_type": "code",
      "metadata": {
        "id": "HLYoWpF1ufQ2",
        "outputId": "a1c52a73-f029-466c-9715-ea5e96c7eac7",
        "colab": {
          "base_uri": "https://localhost:8080/",
          "height": 312
        }
      },
      "source": [
        "print(DF_TEST['dx_name'].value_counts(), \"\\n\")\n",
        "print(DF_TEST['dx_id'].value_counts())"
      ],
      "execution_count": null,
      "outputs": [
        {
          "output_type": "stream",
          "text": [
            "Melanocytic nevi                  1603\n",
            "Benign keratosis-like lesions      160\n",
            "melenoma                            83\n",
            "Basal cell carcinoma                64\n",
            "Actinic keratoses                   55\n",
            "Vascular lesions                    23\n",
            "Dermatofibroma                      14\n",
            "Name: dx_name, dtype: int64 \n",
            "\n",
            "4    1603\n",
            "2     160\n",
            "6      83\n",
            "1      64\n",
            "0      55\n",
            "5      23\n",
            "3      14\n",
            "Name: dx_id, dtype: int64\n"
          ],
          "name": "stdout"
        }
      ]
    },
    {
      "cell_type": "markdown",
      "metadata": {
        "id": "G0q1zfQiufQ7"
      },
      "source": [
        "Since train dataset is very skewed  and unbalanced, so we augment it to even it out and have a uniform distribution."
      ]
    },
    {
      "cell_type": "code",
      "metadata": {
        "id": "xpm5ZoZpufQ8",
        "outputId": "bc57cc42-5177-403d-fce1-11e7e744fb6d",
        "colab": {
          "base_uri": "https://localhost:8080/",
          "height": 156
        }
      },
      "source": [
        "#Setting augmentation rates according to ratio of examples in dataset.\n",
        "\n",
        "data_aug_rate = [15,10,5,50,0,40,5] \n",
        "\n",
        "for i in range(7):\n",
        "    if data_aug_rate[i]:\n",
        "        DF_TRAIN=DF_TRAIN.append([DF_TRAIN.loc[DF_TRAIN['dx_id'] == i,:]]*(data_aug_rate[i]-1), ignore_index=True)\n",
        "DF_TRAIN['dx_id'].value_counts()"
      ],
      "execution_count": null,
      "outputs": [
        {
          "output_type": "execute_result",
          "data": {
            "text/plain": [
              "6    5150\n",
              "4    5102\n",
              "3    5050\n",
              "5    4760\n",
              "2    4695\n",
              "1    4500\n",
              "0    4080\n",
              "Name: dx_id, dtype: int64"
            ]
          },
          "metadata": {
            "tags": []
          },
          "execution_count": 43
        }
      ]
    },
    {
      "cell_type": "markdown",
      "metadata": {
        "id": "vZ5Llgz_ufRD"
      },
      "source": [
        "So now we have got our training dataset with evenly distributed data."
      ]
    },
    {
      "cell_type": "code",
      "metadata": {
        "id": "v30pBh7uufRE"
      },
      "source": [
        "DF_ = DF_TRAIN.reset_index()\n",
        "DF_TEST = DF_TEST.reset_index()"
      ],
      "execution_count": null,
      "outputs": []
    },
    {
      "cell_type": "markdown",
      "metadata": {
        "id": "rZlPEBLGufRI"
      },
      "source": [
        "### Creating train and testing Dataloaders."
      ]
    },
    {
      "cell_type": "code",
      "metadata": {
        "id": "Bew7jwHbufRO"
      },
      "source": [
        "#The mean and standard values of images for normalisation with data augmentations  \n",
        "\n",
        "train_transforms = transforms.Compose([\n",
        "    transforms.Resize(224),\n",
        "    transforms.RandomRotation(10),\n",
        "    transforms.RandomHorizontalFlip(),\n",
        "    transforms.RandomVerticalFlip(),   \n",
        "    transforms.ColorJitter(brightness=0.1, contrast=0.1, hue=0.1),\n",
        "    transforms.ToTensor(),\n",
        "    transforms.Normalize(NORM_MEAN, NORM_STD_DEV)\n",
        "])"
      ],
      "execution_count": null,
      "outputs": []
    },
    {
      "cell_type": "code",
      "metadata": {
        "id": "6NL5EfY2ufRS"
      },
      "source": [
        "\n",
        "test_transforms = transforms.Compose([transforms.Resize(224),\n",
        "                                     transforms.ToTensor(),\n",
        "                                     transforms.Normalize(NORM_MEAN, NORM_STD_DEV)])"
      ],
      "execution_count": null,
      "outputs": []
    },
    {
      "cell_type": "code",
      "metadata": {
        "id": "7VisA-cWufRX"
      },
      "source": [
        "#class HAM10000 lets image and its associated label be combined into a single dataset.\n",
        "class HAM10000(Dataset):\n",
        "    def __init__(self, df, transform=None):\n",
        "        self.df = df\n",
        "        self.transform = transform\n",
        "\n",
        "    def __len__(self):\n",
        "        return len(self.df)\n",
        "\n",
        "    def __getitem__(self, index):\n",
        "        # Load data and get label\n",
        "        a=self.df['image_id'][index]\n",
        "        images = Image.open(\"/content/drive/My Drive/Project-3rd year/data/train/\" +a+'.jpg')\n",
        "        labels= torch.tensor(int(self.df['dx_id'][index]))\n",
        "\n",
        "        if self.transform:\n",
        "            images = self.transform(images)\n",
        "\n",
        "        return images, labels"
      ],
      "execution_count": null,
      "outputs": []
    },
    {
      "cell_type": "code",
      "metadata": {
        "scrolled": true,
        "id": "wX71kSHoufRc",
        "outputId": "ac2d36b9-0a31-4da2-ce01-12176bceeff1",
        "colab": {
          "base_uri": "https://localhost:8080/",
          "height": 433
        }
      },
      "source": [
        "#Creating the training dataset.\n",
        "\n",
        "train_dataset = HAM10000(DF_TRAIN, transform=train_transforms)\n",
        "train_dataset.__getitem__(0)"
      ],
      "execution_count": null,
      "outputs": [
        {
          "output_type": "execute_result",
          "data": {
            "text/plain": [
              "(tensor([[[-5.5378, -5.5378, -5.5378,  ..., -5.5378, -5.5378, -5.5378],\n",
              "          [-5.5378, -5.5378, -5.5378,  ..., -5.5378, -5.5378, -5.5378],\n",
              "          [-5.5378, -5.5378, -5.5378,  ..., -5.5378, -5.5378, -5.5378],\n",
              "          ...,\n",
              "          [-5.5378, -5.5378, -5.5378,  ..., -5.5378, -5.5378, -5.5378],\n",
              "          [-5.5378, -5.5378, -5.5378,  ..., -5.5378, -5.5378, -5.5378],\n",
              "          [-5.5378, -5.5378, -5.5378,  ..., -5.5378, -5.5378, -5.5378]],\n",
              " \n",
              "         [[-3.3890, -3.3890, -3.3890,  ..., -3.3890, -3.3890, -3.3890],\n",
              "          [-3.3890, -3.3890, -3.3890,  ..., -3.3890, -3.3890, -3.3890],\n",
              "          [-3.3890, -3.3890, -3.3890,  ..., -3.3890, -3.3890, -3.3890],\n",
              "          ...,\n",
              "          [-3.3890, -3.3890, -3.3890,  ..., -3.3890, -3.3890, -3.3890],\n",
              "          [-3.3890, -3.3890, -3.3890,  ..., -3.3890, -3.3890, -3.3890],\n",
              "          [-3.3890, -3.3890, -3.3890,  ..., -3.3890, -3.3890, -3.3890]],\n",
              " \n",
              "         [[-3.1773, -3.1773, -3.1773,  ..., -3.1773, -3.1773, -3.1773],\n",
              "          [-3.1773, -3.1773, -3.1773,  ..., -3.1773, -3.1773, -3.1773],\n",
              "          [-3.1773, -3.1773, -3.1773,  ..., -3.1773, -3.1773, -3.1773],\n",
              "          ...,\n",
              "          [-3.1773, -3.1773, -3.1773,  ..., -3.1773, -3.1773, -3.1773],\n",
              "          [-3.1773, -3.1773, -3.1773,  ..., -3.1773, -3.1773, -3.1773],\n",
              "          [-3.1773, -3.1773, -3.1773,  ..., -3.1773, -3.1773, -3.1773]]]),\n",
              " tensor(2))"
            ]
          },
          "metadata": {
            "tags": []
          },
          "execution_count": 50
        }
      ]
    },
    {
      "cell_type": "code",
      "metadata": {
        "id": "ODAQE2tnufRh"
      },
      "source": [
        "train_loader = torch.utils.data.DataLoader(\n",
        "    train_dataset, batch_size=BATCH_SIZE, shuffle=True,num_workers=NUM_WORKERS, drop_last = True,)"
      ],
      "execution_count": null,
      "outputs": []
    },
    {
      "cell_type": "code",
      "metadata": {
        "id": "9z47nSWyufRm",
        "outputId": "0a8a5a5e-61c4-44be-98d9-ed77b37393b3",
        "colab": {
          "base_uri": "https://localhost:8080/",
          "height": 433
        }
      },
      "source": [
        "test_dataset = HAM10000(DF_TEST , transform = test_transforms)\n",
        "test_dataset.__getitem__(0)"
      ],
      "execution_count": null,
      "outputs": [
        {
          "output_type": "execute_result",
          "data": {
            "text/plain": [
              "(tensor([[[ 0.6328,  0.5475,  0.3769,  ...,  0.8034,  0.8034,  0.6328],\n",
              "          [ 0.7750,  0.7465,  0.5190,  ...,  0.8887,  0.9740,  0.5759],\n",
              "          [ 0.7465,  0.7181,  0.8318,  ...,  0.8887,  0.7750,  0.9171],\n",
              "          ...,\n",
              "          [ 0.4622,  0.5190,  0.3769,  ...,  0.5759,  0.6612,  0.6612],\n",
              "          [ 0.3484,  0.3200,  0.4906,  ...,  0.5190,  0.6897,  0.6328],\n",
              "          [ 0.3769,  0.3200,  0.3769,  ...,  0.6044,  0.4906,  0.5190]],\n",
              " \n",
              "         [[-0.2773, -0.4749, -0.7219,  ...,  0.1672,  0.1425, -0.0551],\n",
              "          [-0.2279, -0.3020, -0.5490,  ...,  0.1672,  0.1672, -0.2279],\n",
              "          [-0.2773, -0.3020, -0.1786,  ...,  0.0684, -0.0798, -0.0551],\n",
              "          ...,\n",
              "          [-0.2526, -0.1292, -0.2033,  ..., -0.0551,  0.0684,  0.0684],\n",
              "          [-0.2773, -0.2526, -0.1045,  ..., -0.0798,  0.0684,  0.0190],\n",
              "          [-0.1786, -0.2526, -0.2526,  ..., -0.0551, -0.1539, -0.0798]],\n",
              " \n",
              "         [[-0.4485, -0.5373, -0.7813,  ...,  0.0839,  0.0617, -0.1379],\n",
              "          [-0.3154, -0.3598, -0.6038,  ...,  0.1505,  0.1727, -0.1379],\n",
              "          [-0.2489, -0.3154, -0.2710,  ...,  0.1283,  0.0617,  0.1505],\n",
              "          ...,\n",
              "          [-0.3598, -0.3154, -0.4263,  ..., -0.2045, -0.1157, -0.1601],\n",
              "          [-0.4707, -0.4485, -0.3154,  ..., -0.2932, -0.1601, -0.2045],\n",
              "          [-0.5151, -0.4707, -0.4263,  ..., -0.2710, -0.3598, -0.3154]]]),\n",
              " tensor(4))"
            ]
          },
          "metadata": {
            "tags": []
          },
          "execution_count": 52
        }
      ]
    },
    {
      "cell_type": "code",
      "metadata": {
        "id": "AycvEFi-ufRt"
      },
      "source": [
        "test_loader = torch.utils.data.DataLoader(test_dataset,batch_size=BATCH_SIZE, shuffle=False,num_workers=NUM_WORKERS,drop_last = True,)"
      ],
      "execution_count": null,
      "outputs": []
    },
    {
      "cell_type": "markdown",
      "metadata": {
        "id": "P_ULAjTBufRx"
      },
      "source": [
        "## Model"
      ]
    },
    {
      "cell_type": "code",
      "metadata": {
        "id": "sMIFoV67ufRy",
        "outputId": "bbdacc83-f644-4b96-e541-9a7b7589603a",
        "colab": {
          "base_uri": "https://localhost:8080/",
          "height": 1000
        }
      },
      "source": [
        "from torchvision import models\n",
        "\n",
        "model = models.resnet18(num_classes=7)\n",
        "model"
      ],
      "execution_count": null,
      "outputs": [
        {
          "output_type": "execute_result",
          "data": {
            "text/plain": [
              "ResNet(\n",
              "  (conv1): Conv2d(3, 64, kernel_size=(7, 7), stride=(2, 2), padding=(3, 3), bias=False)\n",
              "  (bn1): BatchNorm2d(64, eps=1e-05, momentum=0.1, affine=True, track_running_stats=True)\n",
              "  (relu): ReLU(inplace=True)\n",
              "  (maxpool): MaxPool2d(kernel_size=3, stride=2, padding=1, dilation=1, ceil_mode=False)\n",
              "  (layer1): Sequential(\n",
              "    (0): BasicBlock(\n",
              "      (conv1): Conv2d(64, 64, kernel_size=(3, 3), stride=(1, 1), padding=(1, 1), bias=False)\n",
              "      (bn1): BatchNorm2d(64, eps=1e-05, momentum=0.1, affine=True, track_running_stats=True)\n",
              "      (relu): ReLU(inplace=True)\n",
              "      (conv2): Conv2d(64, 64, kernel_size=(3, 3), stride=(1, 1), padding=(1, 1), bias=False)\n",
              "      (bn2): BatchNorm2d(64, eps=1e-05, momentum=0.1, affine=True, track_running_stats=True)\n",
              "    )\n",
              "    (1): BasicBlock(\n",
              "      (conv1): Conv2d(64, 64, kernel_size=(3, 3), stride=(1, 1), padding=(1, 1), bias=False)\n",
              "      (bn1): BatchNorm2d(64, eps=1e-05, momentum=0.1, affine=True, track_running_stats=True)\n",
              "      (relu): ReLU(inplace=True)\n",
              "      (conv2): Conv2d(64, 64, kernel_size=(3, 3), stride=(1, 1), padding=(1, 1), bias=False)\n",
              "      (bn2): BatchNorm2d(64, eps=1e-05, momentum=0.1, affine=True, track_running_stats=True)\n",
              "    )\n",
              "  )\n",
              "  (layer2): Sequential(\n",
              "    (0): BasicBlock(\n",
              "      (conv1): Conv2d(64, 128, kernel_size=(3, 3), stride=(2, 2), padding=(1, 1), bias=False)\n",
              "      (bn1): BatchNorm2d(128, eps=1e-05, momentum=0.1, affine=True, track_running_stats=True)\n",
              "      (relu): ReLU(inplace=True)\n",
              "      (conv2): Conv2d(128, 128, kernel_size=(3, 3), stride=(1, 1), padding=(1, 1), bias=False)\n",
              "      (bn2): BatchNorm2d(128, eps=1e-05, momentum=0.1, affine=True, track_running_stats=True)\n",
              "      (downsample): Sequential(\n",
              "        (0): Conv2d(64, 128, kernel_size=(1, 1), stride=(2, 2), bias=False)\n",
              "        (1): BatchNorm2d(128, eps=1e-05, momentum=0.1, affine=True, track_running_stats=True)\n",
              "      )\n",
              "    )\n",
              "    (1): BasicBlock(\n",
              "      (conv1): Conv2d(128, 128, kernel_size=(3, 3), stride=(1, 1), padding=(1, 1), bias=False)\n",
              "      (bn1): BatchNorm2d(128, eps=1e-05, momentum=0.1, affine=True, track_running_stats=True)\n",
              "      (relu): ReLU(inplace=True)\n",
              "      (conv2): Conv2d(128, 128, kernel_size=(3, 3), stride=(1, 1), padding=(1, 1), bias=False)\n",
              "      (bn2): BatchNorm2d(128, eps=1e-05, momentum=0.1, affine=True, track_running_stats=True)\n",
              "    )\n",
              "  )\n",
              "  (layer3): Sequential(\n",
              "    (0): BasicBlock(\n",
              "      (conv1): Conv2d(128, 256, kernel_size=(3, 3), stride=(2, 2), padding=(1, 1), bias=False)\n",
              "      (bn1): BatchNorm2d(256, eps=1e-05, momentum=0.1, affine=True, track_running_stats=True)\n",
              "      (relu): ReLU(inplace=True)\n",
              "      (conv2): Conv2d(256, 256, kernel_size=(3, 3), stride=(1, 1), padding=(1, 1), bias=False)\n",
              "      (bn2): BatchNorm2d(256, eps=1e-05, momentum=0.1, affine=True, track_running_stats=True)\n",
              "      (downsample): Sequential(\n",
              "        (0): Conv2d(128, 256, kernel_size=(1, 1), stride=(2, 2), bias=False)\n",
              "        (1): BatchNorm2d(256, eps=1e-05, momentum=0.1, affine=True, track_running_stats=True)\n",
              "      )\n",
              "    )\n",
              "    (1): BasicBlock(\n",
              "      (conv1): Conv2d(256, 256, kernel_size=(3, 3), stride=(1, 1), padding=(1, 1), bias=False)\n",
              "      (bn1): BatchNorm2d(256, eps=1e-05, momentum=0.1, affine=True, track_running_stats=True)\n",
              "      (relu): ReLU(inplace=True)\n",
              "      (conv2): Conv2d(256, 256, kernel_size=(3, 3), stride=(1, 1), padding=(1, 1), bias=False)\n",
              "      (bn2): BatchNorm2d(256, eps=1e-05, momentum=0.1, affine=True, track_running_stats=True)\n",
              "    )\n",
              "  )\n",
              "  (layer4): Sequential(\n",
              "    (0): BasicBlock(\n",
              "      (conv1): Conv2d(256, 512, kernel_size=(3, 3), stride=(2, 2), padding=(1, 1), bias=False)\n",
              "      (bn1): BatchNorm2d(512, eps=1e-05, momentum=0.1, affine=True, track_running_stats=True)\n",
              "      (relu): ReLU(inplace=True)\n",
              "      (conv2): Conv2d(512, 512, kernel_size=(3, 3), stride=(1, 1), padding=(1, 1), bias=False)\n",
              "      (bn2): BatchNorm2d(512, eps=1e-05, momentum=0.1, affine=True, track_running_stats=True)\n",
              "      (downsample): Sequential(\n",
              "        (0): Conv2d(256, 512, kernel_size=(1, 1), stride=(2, 2), bias=False)\n",
              "        (1): BatchNorm2d(512, eps=1e-05, momentum=0.1, affine=True, track_running_stats=True)\n",
              "      )\n",
              "    )\n",
              "    (1): BasicBlock(\n",
              "      (conv1): Conv2d(512, 512, kernel_size=(3, 3), stride=(1, 1), padding=(1, 1), bias=False)\n",
              "      (bn1): BatchNorm2d(512, eps=1e-05, momentum=0.1, affine=True, track_running_stats=True)\n",
              "      (relu): ReLU(inplace=True)\n",
              "      (conv2): Conv2d(512, 512, kernel_size=(3, 3), stride=(1, 1), padding=(1, 1), bias=False)\n",
              "      (bn2): BatchNorm2d(512, eps=1e-05, momentum=0.1, affine=True, track_running_stats=True)\n",
              "    )\n",
              "  )\n",
              "  (avgpool): AdaptiveAvgPool2d(output_size=(1, 1))\n",
              "  (fc): Linear(in_features=512, out_features=7, bias=True)\n",
              ")"
            ]
          },
          "metadata": {
            "tags": []
          },
          "execution_count": 54
        }
      ]
    },
    {
      "cell_type": "code",
      "metadata": {
        "id": "QltU8pZq3-k_"
      },
      "source": [
        "from opacus.dp_model_inspector import DPModelInspector\n",
        "\n",
        "inspector = DPModelInspector()"
      ],
      "execution_count": null,
      "outputs": []
    },
    {
      "cell_type": "code",
      "metadata": {
        "id": "EK5AADy4ufR4",
        "outputId": "a1110f80-ad1a-4a23-be8e-9b361622c324",
        "colab": {
          "base_uri": "https://localhost:8080/",
          "height": 35
        }
      },
      "source": [
        "#For model to work with Opacus we need to replace all the BatchNorm layers with GroupNorm using the convert_batchnorm_modules util function, as BatchNorm layers are not supported.\n",
        "\n",
        "from opacus.utils import module_modification\n",
        "\n",
        "model = module_modification.convert_batchnorm_modules(model)\n",
        "inspector = DPModelInspector()\n",
        "print(f\"Is the model valid? {inspector.validate(model)}\")"
      ],
      "execution_count": null,
      "outputs": [
        {
          "output_type": "stream",
          "text": [
            "Is the model valid? True\n"
          ],
          "name": "stdout"
        }
      ]
    },
    {
      "cell_type": "code",
      "metadata": {
        "id": "lxUK7PL4ufR8"
      },
      "source": [
        "#Checking if the machine supports cuda.\n",
        "\n",
        "device = torch.device(\"cuda\" if torch.cuda.is_available() else \"cpu\")\n",
        "model = model.to(device)"
      ],
      "execution_count": null,
      "outputs": []
    },
    {
      "cell_type": "code",
      "metadata": {
        "id": "q_4WbYXu_rvb",
        "outputId": "f8afc5b5-2026-440f-a169-f7c460fc35b1",
        "colab": {
          "base_uri": "https://localhost:8080/",
          "height": 35
        }
      },
      "source": [
        "device"
      ],
      "execution_count": null,
      "outputs": [
        {
          "output_type": "execute_result",
          "data": {
            "text/plain": [
              "device(type='cuda')"
            ]
          },
          "metadata": {
            "tags": []
          },
          "execution_count": 59
        }
      ]
    },
    {
      "cell_type": "code",
      "metadata": {
        "id": "ws9RS4UbufSD"
      },
      "source": [
        "import torch.nn as nn\n",
        "import torch.optim as optim\n",
        "# using RMSprop as Opacus’ privacy engine can attach to any (first-order) optimizer.\n",
        "\n",
        "criterion = nn.CrossEntropyLoss()\n",
        "optimizer = optim.RMSprop(model.parameters(), lr=LR)"
      ],
      "execution_count": null,
      "outputs": []
    },
    {
      "cell_type": "markdown",
      "metadata": {
        "id": "cWbO8xTgufSH"
      },
      "source": [
        "## Training"
      ]
    },
    {
      "cell_type": "code",
      "metadata": {
        "id": "5eUmVepbufSI"
      },
      "source": [
        "def accuracy(preds, labels):\n",
        "    return (preds == labels).mean()"
      ],
      "execution_count": null,
      "outputs": []
    },
    {
      "cell_type": "code",
      "metadata": {
        "id": "oCoWmOZKufSN",
        "outputId": "0ec6ec87-6451-4074-b8c9-ab33f34cdd7b",
        "colab": {
          "base_uri": "https://localhost:8080/",
          "height": 89
        }
      },
      "source": [
        "from opacus import PrivacyEngine\n",
        "print(f\"Using sigma={NOISE_MULTIPLIER} and C={MAX_GRAD_NORM}\")\n",
        "\n",
        "privacy_engine = PrivacyEngine(\n",
        "    model,\n",
        "    batch_size=VIRTUAL_BATCH_SIZE,\n",
        "    sample_size=len(train_dataset),\n",
        "    alphas=[1 + x / 10.0 for x in range(1, 100)] + list(range(12, 64)),\n",
        "    noise_multiplier=NOISE_MULTIPLIER,\n",
        "    max_grad_norm=MAX_GRAD_NORM,\n",
        ")\n",
        "privacy_engine.attach(optimizer)\n"
      ],
      "execution_count": null,
      "outputs": [
        {
          "output_type": "stream",
          "text": [
            "Using sigma=0.38 and C=1.2\n"
          ],
          "name": "stdout"
        },
        {
          "output_type": "stream",
          "text": [
            "/content/opacus/opacus/privacy_engine.py:104: UserWarning: Secure RNG turned off. This is perfectly fine for experimentation as it allows for much faster training performance, but remember to turn it on and retrain one last time before production with ``secure_rng`` turned on.\n",
            "  \"Secure RNG turned off. This is perfectly fine for experimentation as it allows \"\n"
          ],
          "name": "stderr"
        }
      ]
    },
    {
      "cell_type": "code",
      "metadata": {
        "id": "wc8Qo1Q0ufSS"
      },
      "source": [
        "# VIRTUAL_BATCH_SIZE should be divisible by BATCH_SIZE\n",
        "\n",
        "assert VIRTUAL_BATCH_SIZE % BATCH_SIZE == 0 \n",
        "virtual_batch_rate = int(VIRTUAL_BATCH_SIZE / BATCH_SIZE)"
      ],
      "execution_count": null,
      "outputs": []
    },
    {
      "cell_type": "code",
      "metadata": {
        "id": "DjoT2BUMufSX"
      },
      "source": [
        "def train(model, train_loader, optimizer, epoch, device):\n",
        "    model.train()\n",
        "    criterion = nn.CrossEntropyLoss()\n",
        "\n",
        "    losses = []\n",
        "    top1_acc = []\n",
        "\n",
        "    for i, (images, target) in enumerate(train_loader):        \n",
        "        images = images.to(device)\n",
        "        target = target.to(device)\n",
        "\n",
        "\n",
        "        # compute output\n",
        "        output = model(images)\n",
        "        loss = criterion(output, target)\n",
        "        \n",
        "        preds = np.argmax(output.detach().cpu().numpy(), axis=1)\n",
        "        labels = target.detach().cpu().numpy()\n",
        "        \n",
        "        # measure accuracy and record loss\n",
        "        acc = accuracy(preds, labels)\n",
        "\n",
        "        losses.append(loss.item())\n",
        "        top1_acc.append(acc)\n",
        "        \n",
        "        loss.backward()\n",
        "        \t\n",
        "        # take a real optimizer step after N_VIRTUAL_STEP steps t\n",
        "        if ((i + 1) % virtual_batch_rate == 0) or ((i + 1) == len(train_loader)):\n",
        "            optimizer.step()\n",
        "            optimizer.zero_grad()\n",
        "        else:\n",
        "            optimizer.virtual_step() # take a virtual step\n",
        "\n",
        "        if i % 200 == 0:\n",
        "            epsilon, best_alpha = optimizer.privacy_engine.get_privacy_spent(DELTA)\n",
        "            print(\n",
        "                f\"\\tTrain Epoch: {epoch} \\t\"\n",
        "                f\"Loss: {np.mean(losses):.6f} \"\n",
        "                f\"Acc: {np.mean(top1_acc) * 100:.6f} \"\n",
        "                f\"(ε = {epsilon:.2f}, δ = {DELTA})\"\n",
        "                 )\n"
      ],
      "execution_count": null,
      "outputs": []
    },
    {
      "cell_type": "code",
      "metadata": {
        "id": "ZAgaGbQOufSb"
      },
      "source": [
        "def test(model, test_loader, device):\n",
        "    model.eval()\n",
        "    criterion = nn.CrossEntropyLoss()\n",
        "    losses = []\n",
        "    top1_acc = []\n",
        "\n",
        "    with torch.no_grad():\n",
        "        for images, target in test_loader:\n",
        "            images = images.to(device)\n",
        "            target = target.to(device)\n",
        "\n",
        "            output = model(images)\n",
        "            loss = criterion(output, target)\n",
        "            preds = np.argmax(output.detach().cpu().numpy(), axis=1)\n",
        "            labels = target.detach().cpu().numpy()\n",
        "            acc = accuracy(preds, labels)\n",
        "\n",
        "            losses.append(loss.item())\n",
        "            top1_acc.append(acc)\n",
        "\n",
        "    top1_avg = np.mean(top1_acc)\n",
        "    \n",
        "    print(\n",
        "        f\"\\tTest set:\"\n",
        "        f\"Loss: {np.mean(losses):.6f} \"\n",
        "        f\"Acc: {top1_avg * 100:.6f} \"\n",
        "    )\n",
        "    return np.mean(top1_acc)\n"
      ],
      "execution_count": null,
      "outputs": []
    },
    {
      "cell_type": "markdown",
      "metadata": {
        "id": "ZiCvL2qWufSh"
      },
      "source": [
        "## Train the network"
      ]
    },
    {
      "cell_type": "code",
      "metadata": {
        "id": "pY296E0CufSi"
      },
      "source": [
        "from tqdm.notebook import tqdm_notebook"
      ],
      "execution_count": null,
      "outputs": []
    },
    {
      "cell_type": "code",
      "metadata": {
        "id": "t8OISc4BufSm",
        "outputId": "1a2399b3-7149-4041-aaf2-cb752bf9413d",
        "colab": {
          "base_uri": "https://localhost:8080/",
          "height": 1000,
          "referenced_widgets": [
            "8fa5bef435df4b00bb3d7d0a1c44f316",
            "8a2189f39d70401c883994af5e90ef15",
            "d1fa3a5584b4449cbf7316e2ed34fe22",
            "8f996e657b434f08a0cdf50b78e1bdc3",
            "1803e7936aef4674919c6643b747d90f",
            "b69c3695e06a475f98802002620235c7",
            "1ab8232fa7614db8bec9fff8be1c475f",
            "f3a23a5282cc4416a52cc9ff8a5bb2b4"
          ]
        }
      },
      "source": [
        "for epoch in tqdm_notebook(range(20), desc=\"Epoch\", unit=\"epoch\"):\n",
        "    train(model, train_loader, optimizer, epoch + 1, device)"
      ],
      "execution_count": null,
      "outputs": [
        {
          "output_type": "display_data",
          "data": {
            "application/vnd.jupyter.widget-view+json": {
              "model_id": "8fa5bef435df4b00bb3d7d0a1c44f316",
              "version_minor": 0,
              "version_major": 2
            },
            "text/plain": [
              "HBox(children=(FloatProgress(value=0.0, description='Epoch', max=20.0, style=ProgressStyle(description_width='…"
            ]
          },
          "metadata": {
            "tags": []
          }
        },
        {
          "output_type": "stream",
          "text": [
            "\tTrain Epoch: 1 \tLoss: 2.052257 Acc: 18.750000 (ε = 0.19, δ = 1e-05)\n",
            "\tTrain Epoch: 1 \tLoss: 1.977730 Acc: 19.838308 (ε = 10.26, δ = 1e-05)\n",
            "\tTrain Epoch: 1 \tLoss: 1.894244 Acc: 22.708853 (ε = 11.29, δ = 1e-05)\n",
            "\tTrain Epoch: 1 \tLoss: 1.841438 Acc: 24.828411 (ε = 12.11, δ = 1e-05)\n",
            "\tTrain Epoch: 1 \tLoss: 1.799706 Acc: 26.814139 (ε = 12.66, δ = 1e-05)\n",
            "\tTrain Epoch: 1 \tLoss: 1.759468 Acc: 28.565185 (ε = 13.20, δ = 1e-05)\n"
          ],
          "name": "stdout"
        },
        {
          "output_type": "stream",
          "text": [
            "/content/opacus/opacus/privacy_engine.py:280: UserWarning: PrivacyEngine expected a batch of size 64 but the last step received a batch of size 32. This means that the privacy analysis will be a bit more pessimistic. You can set `drop_last = True` in your PyTorch dataloader to avoid this problem completely\n",
            "  f\"PrivacyEngine expected a batch of size {self.batch_size} \"\n"
          ],
          "name": "stderr"
        },
        {
          "output_type": "stream",
          "text": [
            "\tTrain Epoch: 2 \tLoss: 1.672971 Acc: 31.250000 (ε = 13.32, δ = 1e-05)\n",
            "\tTrain Epoch: 2 \tLoss: 1.534559 Acc: 39.194652 (ε = 13.84, δ = 1e-05)\n",
            "\tTrain Epoch: 2 \tLoss: 1.532129 Acc: 39.339152 (ε = 14.21, δ = 1e-05)\n",
            "\tTrain Epoch: 2 \tLoss: 1.519919 Acc: 40.229825 (ε = 14.58, δ = 1e-05)\n",
            "\tTrain Epoch: 2 \tLoss: 1.507435 Acc: 40.718633 (ε = 14.96, δ = 1e-05)\n",
            "\tTrain Epoch: 2 \tLoss: 1.504585 Acc: 41.243132 (ε = 15.33, δ = 1e-05)\n",
            "\tTrain Epoch: 3 \tLoss: 1.499317 Acc: 50.000000 (ε = 15.41, δ = 1e-05)\n",
            "\tTrain Epoch: 3 \tLoss: 1.461239 Acc: 44.263060 (ε = 15.78, δ = 1e-05)\n",
            "\tTrain Epoch: 3 \tLoss: 1.460096 Acc: 45.129364 (ε = 16.12, δ = 1e-05)\n",
            "\tTrain Epoch: 3 \tLoss: 1.462763 Acc: 45.179908 (ε = 16.39, δ = 1e-05)\n",
            "\tTrain Epoch: 3 \tLoss: 1.462467 Acc: 45.564139 (ε = 16.66, δ = 1e-05)\n",
            "\tTrain Epoch: 3 \tLoss: 1.467837 Acc: 45.610639 (ε = 16.93, δ = 1e-05)\n",
            "\tTrain Epoch: 4 \tLoss: 1.533720 Acc: 43.750000 (ε = 16.98, δ = 1e-05)\n",
            "\tTrain Epoch: 4 \tLoss: 1.475475 Acc: 47.108209 (ε = 17.25, δ = 1e-05)\n",
            "\tTrain Epoch: 4 \tLoss: 1.484243 Acc: 47.186721 (ε = 17.52, δ = 1e-05)\n",
            "\tTrain Epoch: 4 \tLoss: 1.472560 Acc: 47.628952 (ε = 17.79, δ = 1e-05)\n",
            "\tTrain Epoch: 4 \tLoss: 1.466417 Acc: 47.561642 (ε = 18.06, δ = 1e-05)\n",
            "\tTrain Epoch: 4 \tLoss: 1.457843 Acc: 47.833417 (ε = 18.33, δ = 1e-05)\n",
            "\tTrain Epoch: 5 \tLoss: 1.200492 Acc: 56.250000 (ε = 18.38, δ = 1e-05)\n",
            "\tTrain Epoch: 5 \tLoss: 1.456256 Acc: 48.709577 (ε = 18.65, δ = 1e-05)\n",
            "\tTrain Epoch: 5 \tLoss: 1.462113 Acc: 48.519327 (ε = 18.92, δ = 1e-05)\n",
            "\tTrain Epoch: 5 \tLoss: 1.449528 Acc: 48.913270 (ε = 19.17, δ = 1e-05)\n",
            "\tTrain Epoch: 5 \tLoss: 1.452213 Acc: 48.958333 (ε = 19.37, δ = 1e-05)\n",
            "\tTrain Epoch: 5 \tLoss: 1.451928 Acc: 48.910465 (ε = 19.57, δ = 1e-05)\n",
            "\tTrain Epoch: 6 \tLoss: 1.357759 Acc: 53.125000 (ε = 19.61, δ = 1e-05)\n",
            "\tTrain Epoch: 6 \tLoss: 1.449182 Acc: 50.031095 (ε = 19.81, δ = 1e-05)\n",
            "\tTrain Epoch: 6 \tLoss: 1.448184 Acc: 49.789589 (ε = 20.01, δ = 1e-05)\n",
            "\tTrain Epoch: 6 \tLoss: 1.444524 Acc: 49.937604 (ε = 20.21, δ = 1e-05)\n",
            "\tTrain Epoch: 6 \tLoss: 1.423850 Acc: 50.468165 (ε = 20.41, δ = 1e-05)\n",
            "\tTrain Epoch: 6 \tLoss: 1.421729 Acc: 50.633741 (ε = 20.62, δ = 1e-05)\n",
            "\tTrain Epoch: 7 \tLoss: 1.232116 Acc: 46.875000 (ε = 20.66, δ = 1e-05)\n",
            "\tTrain Epoch: 7 \tLoss: 1.417871 Acc: 50.886194 (ε = 20.86, δ = 1e-05)\n",
            "\tTrain Epoch: 7 \tLoss: 1.420155 Acc: 50.857232 (ε = 21.06, δ = 1e-05)\n",
            "\tTrain Epoch: 7 \tLoss: 1.407045 Acc: 51.455907 (ε = 21.26, δ = 1e-05)\n",
            "\tTrain Epoch: 7 \tLoss: 1.408682 Acc: 51.349875 (ε = 21.46, δ = 1e-05)\n",
            "\tTrain Epoch: 7 \tLoss: 1.404935 Acc: 51.545330 (ε = 21.66, δ = 1e-05)\n",
            "\tTrain Epoch: 8 \tLoss: 1.417196 Acc: 53.125000 (ε = 21.70, δ = 1e-05)\n",
            "\tTrain Epoch: 8 \tLoss: 1.381578 Acc: 52.285448 (ε = 21.90, δ = 1e-05)\n",
            "\tTrain Epoch: 8 \tLoss: 1.404475 Acc: 52.501559 (ε = 22.10, δ = 1e-05)\n",
            "\tTrain Epoch: 8 \tLoss: 1.407754 Acc: 51.991473 (ε = 22.30, δ = 1e-05)\n",
            "\tTrain Epoch: 8 \tLoss: 1.403212 Acc: 52.087235 (ε = 22.50, δ = 1e-05)\n",
            "\tTrain Epoch: 8 \tLoss: 1.396281 Acc: 52.238387 (ε = 22.70, δ = 1e-05)\n",
            "\tTrain Epoch: 9 \tLoss: 1.154096 Acc: 46.875000 (ε = 22.75, δ = 1e-05)\n",
            "\tTrain Epoch: 9 \tLoss: 1.387822 Acc: 53.000622 (ε = 22.95, δ = 1e-05)\n",
            "\tTrain Epoch: 9 \tLoss: 1.393600 Acc: 52.548317 (ε = 23.15, δ = 1e-05)\n",
            "\tTrain Epoch: 9 \tLoss: 1.387597 Acc: 52.693428 (ε = 23.35, δ = 1e-05)\n",
            "\tTrain Epoch: 9 \tLoss: 1.379384 Acc: 52.890918 (ε = 23.52, δ = 1e-05)\n",
            "\tTrain Epoch: 9 \tLoss: 1.374405 Acc: 53.221778 (ε = 23.68, δ = 1e-05)\n",
            "\tTrain Epoch: 10 \tLoss: 1.110307 Acc: 59.375000 (ε = 23.71, δ = 1e-05)\n",
            "\tTrain Epoch: 10 \tLoss: 1.373234 Acc: 54.322139 (ε = 23.86, δ = 1e-05)\n",
            "\tTrain Epoch: 10 \tLoss: 1.366554 Acc: 54.192643 (ε = 24.02, δ = 1e-05)\n",
            "\tTrain Epoch: 10 \tLoss: 1.369661 Acc: 54.170133 (ε = 24.17, δ = 1e-05)\n",
            "\tTrain Epoch: 10 \tLoss: 1.373621 Acc: 54.264201 (ε = 24.33, δ = 1e-05)\n",
            "\tTrain Epoch: 10 \tLoss: 1.374231 Acc: 54.320679 (ε = 24.48, δ = 1e-05)\n",
            "\tTrain Epoch: 11 \tLoss: 1.448523 Acc: 43.750000 (ε = 24.51, δ = 1e-05)\n",
            "\tTrain Epoch: 11 \tLoss: 1.390550 Acc: 54.057836 (ε = 24.67, δ = 1e-05)\n",
            "\tTrain Epoch: 11 \tLoss: 1.374032 Acc: 54.504364 (ε = 24.82, δ = 1e-05)\n",
            "\tTrain Epoch: 11 \tLoss: 1.372448 Acc: 54.560108 (ε = 24.98, δ = 1e-05)\n",
            "\tTrain Epoch: 11 \tLoss: 1.371293 Acc: 54.732366 (ε = 25.13, δ = 1e-05)\n",
            "\tTrain Epoch: 11 \tLoss: 1.370088 Acc: 54.882617 (ε = 25.29, δ = 1e-05)\n",
            "\tTrain Epoch: 12 \tLoss: 0.938352 Acc: 71.875000 (ε = 25.32, δ = 1e-05)\n",
            "\tTrain Epoch: 12 \tLoss: 1.395268 Acc: 54.773010 (ε = 25.48, δ = 1e-05)\n",
            "\tTrain Epoch: 12 \tLoss: 1.400061 Acc: 54.730362 (ε = 25.63, δ = 1e-05)\n",
            "\tTrain Epoch: 12 \tLoss: 1.374901 Acc: 55.241265 (ε = 25.79, δ = 1e-05)\n",
            "\tTrain Epoch: 12 \tLoss: 1.367401 Acc: 55.305868 (ε = 25.94, δ = 1e-05)\n",
            "\tTrain Epoch: 12 \tLoss: 1.370306 Acc: 55.172952 (ε = 26.10, δ = 1e-05)\n",
            "\tTrain Epoch: 13 \tLoss: 1.446830 Acc: 56.250000 (ε = 26.13, δ = 1e-05)\n",
            "\tTrain Epoch: 13 \tLoss: 1.337022 Acc: 55.690299 (ε = 26.28, δ = 1e-05)\n",
            "\tTrain Epoch: 13 \tLoss: 1.356064 Acc: 55.525249 (ε = 26.44, δ = 1e-05)\n",
            "\tTrain Epoch: 13 \tLoss: 1.356537 Acc: 55.485649 (ε = 26.59, δ = 1e-05)\n",
            "\tTrain Epoch: 13 \tLoss: 1.361298 Acc: 55.602372 (ε = 26.75, δ = 1e-05)\n",
            "\tTrain Epoch: 13 \tLoss: 1.363266 Acc: 55.613137 (ε = 26.90, δ = 1e-05)\n",
            "\tTrain Epoch: 14 \tLoss: 1.808780 Acc: 50.000000 (ε = 26.94, δ = 1e-05)\n",
            "\tTrain Epoch: 14 \tLoss: 1.319691 Acc: 56.483209 (ε = 27.09, δ = 1e-05)\n",
            "\tTrain Epoch: 14 \tLoss: 1.346776 Acc: 55.922693 (ε = 27.24, δ = 1e-05)\n",
            "\tTrain Epoch: 14 \tLoss: 1.351018 Acc: 56.088810 (ε = 27.40, δ = 1e-05)\n",
            "\tTrain Epoch: 14 \tLoss: 1.369285 Acc: 55.953496 (ε = 27.55, δ = 1e-05)\n",
            "\tTrain Epoch: 14 \tLoss: 1.374359 Acc: 56.003372 (ε = 27.71, δ = 1e-05)\n",
            "\tTrain Epoch: 15 \tLoss: 1.063154 Acc: 53.125000 (ε = 27.74, δ = 1e-05)\n",
            "\tTrain Epoch: 15 \tLoss: 1.383420 Acc: 56.747512 (ε = 27.90, δ = 1e-05)\n",
            "\tTrain Epoch: 15 \tLoss: 1.380379 Acc: 57.115025 (ε = 28.05, δ = 1e-05)\n",
            "\tTrain Epoch: 15 \tLoss: 1.383898 Acc: 56.546381 (ε = 28.21, δ = 1e-05)\n",
            "\tTrain Epoch: 15 \tLoss: 1.377012 Acc: 56.784488 (ε = 28.36, δ = 1e-05)\n",
            "\tTrain Epoch: 15 \tLoss: 1.384577 Acc: 56.652722 (ε = 28.52, δ = 1e-05)\n",
            "\tTrain Epoch: 16 \tLoss: 1.488894 Acc: 59.375000 (ε = 28.55, δ = 1e-05)\n",
            "\tTrain Epoch: 16 \tLoss: 1.398930 Acc: 55.939055 (ε = 28.70, δ = 1e-05)\n",
            "\tTrain Epoch: 16 \tLoss: 1.383257 Acc: 56.818890 (ε = 28.86, δ = 1e-05)\n",
            "\tTrain Epoch: 16 \tLoss: 1.367495 Acc: 57.144343 (ε = 29.01, δ = 1e-05)\n",
            "\tTrain Epoch: 16 \tLoss: 1.372801 Acc: 57.116105 (ε = 29.17, δ = 1e-05)\n",
            "\tTrain Epoch: 16 \tLoss: 1.372707 Acc: 57.099151 (ε = 29.32, δ = 1e-05)\n",
            "\tTrain Epoch: 17 \tLoss: 1.178621 Acc: 56.250000 (ε = 29.36, δ = 1e-05)\n",
            "\tTrain Epoch: 17 \tLoss: 1.415551 Acc: 56.405473 (ε = 29.51, δ = 1e-05)\n",
            "\tTrain Epoch: 17 \tLoss: 1.376421 Acc: 57.224127 (ε = 29.67, δ = 1e-05)\n",
            "\tTrain Epoch: 17 \tLoss: 1.387339 Acc: 57.055948 (ε = 29.79, δ = 1e-05)\n",
            "\tTrain Epoch: 17 \tLoss: 1.385212 Acc: 57.065387 (ε = 29.92, δ = 1e-05)\n",
            "\tTrain Epoch: 17 \tLoss: 1.386338 Acc: 57.239635 (ε = 30.04, δ = 1e-05)\n",
            "\tTrain Epoch: 18 \tLoss: 1.602527 Acc: 59.375000 (ε = 30.07, δ = 1e-05)\n",
            "\tTrain Epoch: 18 \tLoss: 1.399546 Acc: 57.027363 (ε = 30.19, δ = 1e-05)\n",
            "\tTrain Epoch: 18 \tLoss: 1.374252 Acc: 57.676122 (ε = 30.31, δ = 1e-05)\n",
            "\tTrain Epoch: 18 \tLoss: 1.379866 Acc: 57.659110 (ε = 30.43, δ = 1e-05)\n",
            "\tTrain Epoch: 18 \tLoss: 1.379069 Acc: 57.791042 (ε = 30.56, δ = 1e-05)\n",
            "\tTrain Epoch: 18 \tLoss: 1.379248 Acc: 57.895230 (ε = 30.68, δ = 1e-05)\n",
            "\tTrain Epoch: 19 \tLoss: 0.980996 Acc: 68.750000 (ε = 30.71, δ = 1e-05)\n",
            "\tTrain Epoch: 19 \tLoss: 1.394316 Acc: 57.929104 (ε = 30.83, δ = 1e-05)\n",
            "\tTrain Epoch: 19 \tLoss: 1.388954 Acc: 57.582606 (ε = 30.95, δ = 1e-05)\n",
            "\tTrain Epoch: 19 \tLoss: 1.378286 Acc: 57.778702 (ε = 31.07, δ = 1e-05)\n",
            "\tTrain Epoch: 19 \tLoss: 1.377115 Acc: 57.674001 (ε = 31.20, δ = 1e-05)\n",
            "\tTrain Epoch: 19 \tLoss: 1.378148 Acc: 57.670455 (ε = 31.32, δ = 1e-05)\n",
            "\tTrain Epoch: 20 \tLoss: 1.692492 Acc: 40.625000 (ε = 31.35, δ = 1e-05)\n",
            "\tTrain Epoch: 20 \tLoss: 1.399693 Acc: 56.592040 (ε = 31.47, δ = 1e-05)\n",
            "\tTrain Epoch: 20 \tLoss: 1.386599 Acc: 57.099439 (ε = 31.59, δ = 1e-05)\n",
            "\tTrain Epoch: 20 \tLoss: 1.387722 Acc: 57.253536 (ε = 31.71, δ = 1e-05)\n",
            "\tTrain Epoch: 20 \tLoss: 1.388057 Acc: 57.350187 (ε = 31.84, δ = 1e-05)\n",
            "\tTrain Epoch: 20 \tLoss: 1.383485 Acc: 57.576798 (ε = 31.96, δ = 1e-05)\n",
            "\n"
          ],
          "name": "stdout"
        }
      ]
    },
    {
      "cell_type": "code",
      "metadata": {
        "id": "HYEQO6AdufSs",
        "outputId": "c816dee4-9f1f-43f7-a4b0-35bdda68402c",
        "colab": {
          "base_uri": "https://localhost:8080/",
          "height": 35
        }
      },
      "source": [
        "top1_acc = test(model, test_loader, device)"
      ],
      "execution_count": null,
      "outputs": [
        {
          "output_type": "stream",
          "text": [
            "\tTest set:Loss: 0.883671 Acc: 75.252016 \n"
          ],
          "name": "stdout"
        }
      ]
    },
    {
      "cell_type": "markdown",
      "metadata": {
        "id": "RWLOsBrbrJtV"
      },
      "source": [
        "Training a **private ResNet18 model** for **20 epochs**.\n",
        "\n",
        "**Test Accuracy** was found to be **75.252016** with \n",
        "**Epsilon (ε) = 31.96,Epsilon** which is proportional to the privacy budget."
      ]
    },
    {
      "cell_type": "code",
      "metadata": {
        "id": "ErkEOzScufSy"
      },
      "source": [
        ""
      ],
      "execution_count": null,
      "outputs": []
    },
    {
      "cell_type": "markdown",
      "metadata": {
        "id": "q11YemNzK5QH"
      },
      "source": [
        "\n",
        "We trained a non-private ResNet18 model for 20 epochs using the same hyper-parameters as above and with BatchNorm replaced with GroupNorm. The results of that was as following\n",
        "\n",
        "Test set:Loss: 0.677344,    Acc: 81.955645 \n",
        "\n",
        "That is, **Test Accuracy** was found to be **81.955645** \n",
        "\n",
        "Link for the non-private ResNet18 model : https://colab.research.google.com/drive/1eb840oBGUpPvi7niMy990b5mrbUJCCY8?usp=sharing "
      ]
    },
    {
      "cell_type": "code",
      "metadata": {
        "id": "Jq-gqZ--ufS-"
      },
      "source": [
        ""
      ],
      "execution_count": null,
      "outputs": []
    }
  ]
}